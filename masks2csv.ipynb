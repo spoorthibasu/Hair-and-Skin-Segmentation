{
 "cells": [
  {
   "cell_type": "code",
   "execution_count": 10,
   "metadata": {
    "collapsed": true
   },
   "outputs": [],
   "source": [
    "import numpy as np\n",
    "import matplotlib.pyplot as plt\n",
    "import os\n",
    "import pandas as pd\n",
    "from skimage.transform import resize\n",
    "from skimage.io import imread\n",
    "%matplotlib inline  \n",
    "\n",
    "# encoding function\n",
    "# based on the implementation: https://www.kaggle.com/rakhlin/fast-run-length-encoding-python/code\n",
    "def rle_encoding(x):\n",
    "    '''\n",
    "    x: numpy array of shape (height, width), 1 - mask, 0 - background\n",
    "    Returns run length as list\n",
    "    '''\n",
    "    dots = np.where(x.T.flatten()==1)[0] # .T sets Fortran order down-then-right\n",
    "    run_lengths = []\n",
    "    prev = -2\n",
    "    for b in dots:\n",
    "        if (b>prev+1): run_lengths.extend((b+1, 0))\n",
    "        run_lengths[-1] += 1\n",
    "        prev = b\n",
    "    return run_lengths"
   ]
  },
  {
   "cell_type": "code",
   "execution_count": 11,
   "metadata": {
    "collapsed": true
   },
   "outputs": [],
   "source": [
    "# (* update) the input_path using your folder path\n",
    "input_path = './hair/testing/testing_masks'\n",
    "\n",
    "# get a sorted list of all mask filenames in the folder\n",
    "masks = [f for f in os.listdir(input_path) if f.endswith('.jpg')]\n",
    "masks = sorted(masks, key=lambda s:int(s.split('_')[2].split('.')[0]))\n",
    "\n",
    "# encode all masks\n",
    "encodings = []\n",
    "for file in masks:\n",
    "    mask = imread(os.path.join(input_path, file))\n",
    "    #img_size =10\n",
    "    #mask = resize(mask, (img_size, img_size), mode='constant', preserve_range=True)\n",
    "    mask = np.array(mask, dtype=np.uint8)\n",
    "    mask = np.round(mask/255)\n",
    "    encodings.append(rle_encoding(mask))\n",
    "\n",
    "\n",
    "# (** update) the path where to save the submission csv file\n",
    "sub = pd.DataFrame()\n",
    "sub['ImageId'] = pd.Series(masks).apply(lambda x: os.path.splitext(x)[0])\n",
    "sub['EncodedPixels'] = pd.Series(encodings).apply(lambda x: ' '.join(str(y) for y in x))\n",
    "sub.to_csv(os.path.join('./hair/testing/', 'test_seg.csv'), index=False)"
   ]
  },
  {
   "cell_type": "code",
   "execution_count": null,
   "metadata": {
    "collapsed": true
   },
   "outputs": [],
   "source": []
  }
 ],
 "metadata": {
  "kernelspec": {
   "display_name": "Python 3",
   "language": "python",
   "name": "python3"
  },
  "language_info": {
   "codemirror_mode": {
    "name": "ipython",
    "version": 3
   },
   "file_extension": ".py",
   "mimetype": "text/x-python",
   "name": "python",
   "nbconvert_exporter": "python",
   "pygments_lexer": "ipython3",
   "version": "3.5.3"
  }
 },
 "nbformat": 4,
 "nbformat_minor": 2
}
